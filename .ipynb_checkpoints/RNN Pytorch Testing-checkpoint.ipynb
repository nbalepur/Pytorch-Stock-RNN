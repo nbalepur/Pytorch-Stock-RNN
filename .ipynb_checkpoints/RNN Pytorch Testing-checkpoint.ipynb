{
 "cells": [
  {
   "cell_type": "code",
   "execution_count": 27,
   "metadata": {},
   "outputs": [],
   "source": [
    "api_key = \"SV0IN2QULQJBL59E\"\n",
    "stock = \"TSLA\""
   ]
  },
  {
   "cell_type": "code",
   "execution_count": 2,
   "metadata": {},
   "outputs": [
    {
     "name": "stdout",
     "output_type": "stream",
     "text": [
      "Note: you may need to restart the kernel to use updated packages.\n"
     ]
    }
   ],
   "source": [
    "pip install requests -q"
   ]
  },
  {
   "cell_type": "code",
   "execution_count": 3,
   "metadata": {},
   "outputs": [
    {
     "name": "stdout",
     "output_type": "stream",
     "text": [
      "Note: you may need to restart the kernel to use updated packages.\n"
     ]
    }
   ],
   "source": [
    "pip install pandas -q"
   ]
  },
  {
   "cell_type": "code",
   "execution_count": 37,
   "metadata": {},
   "outputs": [
    {
     "name": "stdout",
     "output_type": "stream",
     "text": [
      "Note: you may need to restart the kernel to use updated packages.\n"
     ]
    }
   ],
   "source": [
    "pip install matplotlib -q"
   ]
  },
  {
   "cell_type": "code",
   "execution_count": 73,
   "metadata": {},
   "outputs": [],
   "source": [
    "import requests\n",
    "import json\n",
    "import pandas as pd\n",
    "import matplotlib.pyplot as plt\n",
    "import numpy as np"
   ]
  },
  {
   "cell_type": "code",
   "execution_count": 80,
   "metadata": {},
   "outputs": [],
   "source": [
    "response = requests.get(f\"https://www.alphavantage.co/query?function=TIME_SERIES_INTRADAY_EXTENDED&symbol={stock}&interval=15min&slice=year1month1&adjusted=true&apikey={api_key}\")"
   ]
  },
  {
   "cell_type": "code",
   "execution_count": 81,
   "metadata": {},
   "outputs": [],
   "source": [
    "txt = response.text.split(\"\\r\\n\")\n",
    "data = [t.split(\",\") for t in txt]\n",
    "data.reverse()\n",
    "\n",
    "df = pd.DataFrame(data[1:-1])\n",
    "df.columns = data[-1]\n",
    "df_data = df[[\"open\", \"high\", \"low\", \"close\", \"volume\"]].astype(float)"
   ]
  },
  {
   "cell_type": "code",
   "execution_count": 82,
   "metadata": {},
   "outputs": [
    {
     "data": {
      "text/plain": [
       "Text(0.5, 1.0, 'TSLA Stock Over 1 Month')"
      ]
     },
     "execution_count": 82,
     "metadata": {},
     "output_type": "execute_result"
    },
    {
     "data": {
      "image/png": "[encoded data removed]",
      "text/plain": [
       "<Figure size 432x288 with 1 Axes>"
      ]
     },
     "metadata": {
      "needs_background": "light"
     },
     "output_type": "display_data"
    }
   ],
   "source": [
    "norm_df = (df_data - df_data.min()) / (df_data.max() - df_data.min())\n",
    "\n",
    "plt.plot(norm_df[\"close\"])\n",
    "plt.title(f\"{stock} Stock Over 1 Month\")"
   ]
  },
  {
   "cell_type": "code",
   "execution_count": 154,
   "metadata": {},
   "outputs": [
    {
     "name": "stdout",
     "output_type": "stream",
     "text": [
      "1031 258\n"
     ]
    }
   ],
   "source": [
    "lookback = 20\n",
    "\n",
    "close_data_raw = norm_df[[\"close\"]].to_numpy()\n",
    "close_data = []\n",
    "\n",
    "for index in range(len(close_data_raw) - lookback): \n",
    "    close_data.append(close_data_raw[index: index + lookback])\n",
    "\n",
    "close_data = np.array(close_data)\n",
    "\n",
    "test_size = int(np.round(0.2 * close_data.shape[0]))\n",
    "train_size = close_data.shape[0] - (test_size)\n",
    "\n",
    "print(train_size, test_size)"
   ]
  },
  {
   "cell_type": "code",
   "execution_count": 159,
   "metadata": {},
   "outputs": [],
   "source": [
    "x_train1 = close_data[:train_size,:-1,:]\n",
    "y_train1 = close_data[:train_size,-1,:]\n",
    "    \n",
    "x_test1 = close_data[train_size:,:-1]\n",
    "y_test1 = close_data[train_size:,-1,:]"
   ]
  },
  {
   "cell_type": "code",
   "execution_count": 160,
   "metadata": {},
   "outputs": [],
   "source": [
    "import torch\n",
    "import torch.nn as nn"
   ]
  },
  {
   "cell_type": "code",
   "execution_count": 161,
   "metadata": {},
   "outputs": [],
   "source": [
    "class GRU(nn.Module):\n",
    "    def __init__(self, input_dim, hidden_dim, num_layers, output_dim):\n",
    "        super(GRU, self).__init__()\n",
    "        self.hidden_dim = hidden_dim\n",
    "        self.num_layers = num_layers\n",
    "        \n",
    "        self.gru = nn.GRU(input_dim, hidden_dim, num_layers, batch_first = True)\n",
    "        self.fc = nn.Linear(hidden_dim, output_dim)\n",
    "\n",
    "    def forward(self, x):\n",
    "        h0 = torch.zeros(self.num_layers, x.size(0), self.hidden_dim).requires_grad_()\n",
    "        out, (hn) = self.gru(x, (h0.detach()))\n",
    "        out = self.fc(out[:, -1, :]) \n",
    "        return out"
   ]
  },
  {
   "cell_type": "code",
   "execution_count": 165,
   "metadata": {},
   "outputs": [],
   "source": [
    "x_train = torch.from_numpy(x_train1).type(torch.Tensor)\n",
    "x_test = torch.from_numpy(x_test1).type(torch.Tensor)\n",
    "y_train = torch.from_numpy(y_train1).type(torch.Tensor)\n",
    "y_test = torch.from_numpy(y_test1).type(torch.Tensor)"
   ]
  },
  {
   "cell_type": "code",
   "execution_count": 166,
   "metadata": {},
   "outputs": [],
   "source": [
    "input_dim = 1\n",
    "hidden_dim = 32\n",
    "num_layers = 2\n",
    "output_dim = 1\n",
    "num_epochs = 100"
   ]
  },
  {
   "cell_type": "code",
   "execution_count": 167,
   "metadata": {},
   "outputs": [],
   "source": [
    "model = GRU(input_dim=input_dim, hidden_dim=hidden_dim, output_dim=output_dim, num_layers=num_layers)\n",
    "criterion = torch.nn.MSELoss(reduction='mean')\n",
    "optimiser = torch.optim.Adam(model.parameters(), lr=0.01)"
   ]
  },
  {
   "cell_type": "code",
   "execution_count": 168,
   "metadata": {},
   "outputs": [],
   "source": [
    "import time"
   ]
  },
  {
   "cell_type": "code",
   "execution_count": 171,
   "metadata": {},
   "outputs": [
    {
     "name": "stdout",
     "output_type": "stream",
     "text": [
      "Epoch  0 MSE:  0.07965075969696045\n",
      "Epoch  1 MSE:  0.0286616999655962\n",
      "Epoch  2 MSE:  0.033417344093322754\n",
      "Epoch  3 MSE:  0.020803527906537056\n",
      "Epoch  4 MSE:  0.023956498131155968\n",
      "Epoch  5 MSE:  0.02571977861225605\n",
      "Epoch  6 MSE:  0.020920280367136\n",
      "Epoch  7 MSE:  0.016837114468216896\n",
      "Epoch  8 MSE:  0.01741722598671913\n",
      "Epoch  9 MSE:  0.018883196637034416\n",
      "Epoch  10 MSE:  0.016589364036917686\n",
      "Epoch  11 MSE:  0.013173529878258705\n",
      "Epoch  12 MSE:  0.012174051254987717\n",
      "Epoch  13 MSE:  0.012613493017852306\n",
      "Epoch  14 MSE:  0.01146589033305645\n",
      "Epoch  15 MSE:  0.008292666636407375\n",
      "Epoch  16 MSE:  0.006119124125689268\n",
      "Epoch  17 MSE:  0.0065345666371285915\n",
      "Epoch  18 MSE:  0.004648102447390556\n",
      "Epoch  19 MSE:  0.001674306346103549\n",
      "Epoch  20 MSE:  0.0030159177258610725\n",
      "Epoch  21 MSE:  0.002173763234168291\n",
      "Epoch  22 MSE:  0.0020845988765358925\n",
      "Epoch  23 MSE:  0.0040268744342029095\n",
      "Epoch  24 MSE:  0.0020693186670541763\n",
      "Epoch  25 MSE:  0.003145773895084858\n",
      "Epoch  26 MSE:  0.0014884615084156394\n",
      "Epoch  27 MSE:  0.0009567647939547896\n",
      "Epoch  28 MSE:  0.0015376971568912268\n",
      "Epoch  29 MSE:  0.0009343204437755048\n",
      "Epoch  30 MSE:  0.0008917523082345724\n",
      "Epoch  31 MSE:  0.0014676636783406138\n",
      "Epoch  32 MSE:  0.001443249173462391\n",
      "Epoch  33 MSE:  0.0011021167738363147\n",
      "Epoch  34 MSE:  0.0012275319313630462\n",
      "Epoch  35 MSE:  0.001398376771248877\n",
      "Epoch  36 MSE:  0.0010675411904230714\n",
      "Epoch  37 MSE:  0.0008185111219063401\n",
      "Epoch  38 MSE:  0.0009266140405088663\n",
      "Epoch  39 MSE:  0.0008331690332852304\n",
      "Epoch  40 MSE:  0.0005540645215660334\n",
      "Epoch  41 MSE:  0.000622698338702321\n",
      "Epoch  42 MSE:  0.0007334731635637581\n",
      "Epoch  43 MSE:  0.0005841808742843568\n",
      "Epoch  44 MSE:  0.0006630382849834859\n",
      "Epoch  45 MSE:  0.0007857027230784297\n",
      "Epoch  46 MSE:  0.0006535834982059896\n",
      "Epoch  47 MSE:  0.0006540112663060427\n",
      "Epoch  48 MSE:  0.0006945047643966973\n",
      "Epoch  49 MSE:  0.0005558396806009114\n",
      "Epoch  50 MSE:  0.0005378825590014458\n",
      "Epoch  51 MSE:  0.0005741937202401459\n",
      "Epoch  52 MSE:  0.0005027050501666963\n",
      "Epoch  53 MSE:  0.0005020219250582159\n",
      "Epoch  54 MSE:  0.0005585149046964943\n",
      "Epoch  55 MSE:  0.0005295021692290902\n",
      "Epoch  56 MSE:  0.0005214201519265771\n",
      "Epoch  57 MSE:  0.0005592615343630314\n",
      "Epoch  58 MSE:  0.000535053841304034\n",
      "Epoch  59 MSE:  0.000505307165440172\n",
      "Epoch  60 MSE:  0.000521191512234509\n",
      "Epoch  61 MSE:  0.0005003836122341454\n",
      "Epoch  62 MSE:  0.0004724889004137367\n",
      "Epoch  63 MSE:  0.00048776602488942444\n",
      "Epoch  64 MSE:  0.00048055819934234023\n",
      "Epoch  65 MSE:  0.00046755746006965637\n",
      "Epoch  66 MSE:  0.000486811128212139\n",
      "Epoch  67 MSE:  0.00048311371938325465\n",
      "Epoch  68 MSE:  0.00047510230797342956\n",
      "Epoch  69 MSE:  0.0004862308269366622\n",
      "Epoch  70 MSE:  0.00047550289309583604\n",
      "Epoch  71 MSE:  0.0004670768976211548\n",
      "Epoch  72 MSE:  0.00047160027315840125\n",
      "Epoch  73 MSE:  0.0004609399475157261\n",
      "Epoch  74 MSE:  0.0004585531132761389\n",
      "Epoch  75 MSE:  0.000463493459392339\n",
      "Epoch  76 MSE:  0.00045763581874780357\n",
      "Epoch  77 MSE:  0.00045956927351653576\n",
      "Epoch  78 MSE:  0.0004629382456187159\n",
      "Epoch  79 MSE:  0.0004578182997647673\n",
      "Epoch  80 MSE:  0.0004590637981891632\n",
      "Epoch  81 MSE:  0.00045855011558160186\n",
      "Epoch  82 MSE:  0.00045332120498642325\n",
      "Epoch  83 MSE:  0.00045414763735607266\n",
      "Epoch  84 MSE:  0.0004523591778706759\n",
      "Epoch  85 MSE:  0.00044963578693568707\n",
      "Epoch  86 MSE:  0.0004515349864959717\n",
      "Epoch  87 MSE:  0.0004500104405451566\n",
      "Epoch  88 MSE:  0.00044955723569728434\n",
      "Epoch  89 MSE:  0.0004507753474172205\n",
      "Epoch  90 MSE:  0.0004486827820073813\n",
      "Epoch  91 MSE:  0.0004486396792344749\n",
      "Epoch  92 MSE:  0.0004480828938540071\n",
      "Epoch  93 MSE:  0.00044610502663999796\n",
      "Epoch  94 MSE:  0.0004463171062525362\n",
      "Epoch  95 MSE:  0.0004452385182958096\n",
      "Epoch  96 MSE:  0.0004445350496098399\n",
      "Epoch  97 MSE:  0.00044491596054285765\n",
      "Epoch  98 MSE:  0.0004439591139089316\n",
      "Epoch  99 MSE:  0.0004439667391125113\n",
      "Training time: 9.167025089263916\n"
     ]
    }
   ],
   "source": [
    "hist = np.zeros(num_epochs)\n",
    "start_time = time.time()\n",
    "gru = []\n",
    "\n",
    "for t in range(num_epochs):\n",
    "    y_train_pred = model(x_train)\n",
    "    loss = criterion(y_train_pred, y_train)\n",
    "    print(\"Epoch \", t, \"MSE: \", loss.item())\n",
    "    hist[t] = loss.item()\n",
    "    optimiser.zero_grad()\n",
    "    loss.backward()\n",
    "    optimiser.step()\n",
    "    \n",
    "    \n",
    "training_time = time.time()-start_time\n",
    "print(\"Training time: {}\".format(training_time))"
   ]
  },
  {
   "cell_type": "code",
   "execution_count": 185,
   "metadata": {},
   "outputs": [
    {
     "data": {
      "text/plain": [
       "[<matplotlib.lines.Line2D at 0x163e01f4ee0>]"
      ]
     },
     "execution_count": 185,
     "metadata": {},
     "output_type": "execute_result"
    },
    {
     "data": {
      "image/png": "[encoded data removed]",
      "text/plain": [
       "<Figure size 432x288 with 1 Axes>"
      ]
     },
     "metadata": {
      "needs_background": "light"
     },
     "output_type": "display_data"
    }
   ],
   "source": [
    "pred_train = model(x_train).detach().numpy().flatten()\n",
    "act_train = y_train\n",
    "\n",
    "fig, ax = plt.subplots()\n",
    "ax.plot(pred_train)\n",
    "ax.plot(act_train)"
   ]
  },
  {
   "cell_type": "code",
   "execution_count": 186,
   "metadata": {},
   "outputs": [
    {
     "data": {
      "text/plain": [
       "[<matplotlib.lines.Line2D at 0x163e0225610>]"
      ]
     },
     "execution_count": 186,
     "metadata": {},
     "output_type": "execute_result"
    },
    {
     "data": {
      "image/png": "[encoded data removed]",
      "text/plain": [
       "<Figure size 432x288 with 1 Axes>"
      ]
     },
     "metadata": {
      "needs_background": "light"
     },
     "output_type": "display_data"
    }
   ],
   "source": [
    "pred_test = model(x_test).detach().numpy().flatten()\n",
    "act_test = y_test\n",
    "\n",
    "fig, ax = plt.subplots()\n",
    "ax.plot(pred_test)\n",
    "ax.plot(act_test)"
   ]
  }
 ],
 "metadata": {
  "kernelspec": {
   "display_name": "Python 3",
   "language": "python",
   "name": "python3"
  },
  "language_info": {
   "codemirror_mode": {
    "name": "ipython",
    "version": 3
   },
   "file_extension": ".py",
   "mimetype": "text/x-python",
   "name": "python",
   "nbconvert_exporter": "python",
   "pygments_lexer": "ipython3",
   "version": "3.9.1"
  }
 },
 "nbformat": 4,
 "nbformat_minor": 4
}
