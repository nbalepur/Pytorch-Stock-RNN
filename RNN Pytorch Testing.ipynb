{
 "cells": [
  {
   "cell_type": "code",
   "execution_count": 2,
   "metadata": {},
   "outputs": [],
   "source": [
    "api_key = \"SV0IN2QULQJBL59E\""
   ]
  },
  {
   "cell_type": "code",
   "execution_count": 34,
   "metadata": {},
   "outputs": [
    {
     "name": "stdout",
     "output_type": "stream",
     "text": [
      "Note: you may need to restart the kernel to use updated packages.\n"
     ]
    }
   ],
   "source": [
    "pip install requests -q"
   ]
  },
  {
   "cell_type": "code",
   "execution_count": 23,
   "metadata": {},
   "outputs": [
    {
     "name": "stdout",
     "output_type": "stream",
     "text": [
      "Note: you may need to restart the kernel to use updated packages.\n"
     ]
    }
   ],
   "source": [
    "pip install pandas -q"
   ]
  },
  {
   "cell_type": "code",
   "execution_count": 24,
   "metadata": {},
   "outputs": [],
   "source": [
    "import requests\n",
    "import json\n",
    "import pandas as pd"
   ]
  },
  {
   "cell_type": "code",
   "execution_count": 32,
   "metadata": {},
   "outputs": [],
   "source": [
    "response = requests.get(f\"https://www.alphavantage.co/query?function=TIME_SERIES_INTRADAY_EXTENDED&symbol=IBM&interval=60min&slice=year1month3&adjusted=true&apikey={api_key}\")"
   ]
  },
  {
   "cell_type": "code",
   "execution_count": 68,
   "metadata": {},
   "outputs": [
    {
     "data": {
      "text/html": [
       "<div>\n",
       "<style scoped>\n",
       "    .dataframe tbody tr th:only-of-type {\n",
       "        vertical-align: middle;\n",
       "    }\n",
       "\n",
       "    .dataframe tbody tr th {\n",
       "        vertical-align: top;\n",
       "    }\n",
       "\n",
       "    .dataframe thead th {\n",
       "        text-align: right;\n",
       "    }\n",
       "</style>\n",
       "<table border=\"1\" class=\"dataframe\">\n",
       "  <thead>\n",
       "    <tr style=\"text-align: right;\">\n",
       "      <th></th>\n",
       "      <th>time</th>\n",
       "      <th>open</th>\n",
       "      <th>high</th>\n",
       "      <th>low</th>\n",
       "      <th>close</th>\n",
       "      <th>volume</th>\n",
       "    </tr>\n",
       "  </thead>\n",
       "  <tbody>\n",
       "    <tr>\n",
       "      <th>0</th>\n",
       "      <td>2020-10-05 08:00:00</td>\n",
       "      <td>119.563097474</td>\n",
       "      <td>119.563097474</td>\n",
       "      <td>119.464488733</td>\n",
       "      <td>119.464488733</td>\n",
       "      <td>242</td>\n",
       "    </tr>\n",
       "    <tr>\n",
       "      <th>1</th>\n",
       "      <td>2020-10-05 09:00:00</td>\n",
       "      <td>119.612401844</td>\n",
       "      <td>119.641984466</td>\n",
       "      <td>119.415184363</td>\n",
       "      <td>119.612401844</td>\n",
       "      <td>2507</td>\n",
       "    </tr>\n",
       "    <tr>\n",
       "      <th>2</th>\n",
       "      <td>2020-10-05 10:00:00</td>\n",
       "      <td>119.641984466</td>\n",
       "      <td>121.042228576</td>\n",
       "      <td>119.57039452</td>\n",
       "      <td>119.661706214</td>\n",
       "      <td>460504</td>\n",
       "    </tr>\n",
       "    <tr>\n",
       "      <th>3</th>\n",
       "      <td>2020-10-05 11:00:00</td>\n",
       "      <td>119.694641533</td>\n",
       "      <td>120.509741379</td>\n",
       "      <td>119.375740867</td>\n",
       "      <td>120.347036958</td>\n",
       "      <td>418983</td>\n",
       "    </tr>\n",
       "    <tr>\n",
       "      <th>4</th>\n",
       "      <td>2020-10-05 12:00:00</td>\n",
       "      <td>120.361828269</td>\n",
       "      <td>120.42592395</td>\n",
       "      <td>120.144889041</td>\n",
       "      <td>120.213915159</td>\n",
       "      <td>409802</td>\n",
       "    </tr>\n",
       "    <tr>\n",
       "      <th>...</th>\n",
       "      <td>...</td>\n",
       "      <td>...</td>\n",
       "      <td>...</td>\n",
       "      <td>...</td>\n",
       "      <td>...</td>\n",
       "      <td>...</td>\n",
       "    </tr>\n",
       "    <tr>\n",
       "      <th>284</th>\n",
       "      <td>2020-10-30 16:00:00</td>\n",
       "      <td>109.572257136</td>\n",
       "      <td>110.244571526</td>\n",
       "      <td>109.080988392</td>\n",
       "      <td>110.10651929</td>\n",
       "      <td>1479460</td>\n",
       "    </tr>\n",
       "    <tr>\n",
       "      <th>285</th>\n",
       "      <td>2020-10-30 17:00:00</td>\n",
       "      <td>110.10651929</td>\n",
       "      <td>110.392484636</td>\n",
       "      <td>109.27603648</td>\n",
       "      <td>110.382623762</td>\n",
       "      <td>204356</td>\n",
       "    </tr>\n",
       "    <tr>\n",
       "      <th>286</th>\n",
       "      <td>2020-10-30 18:00:00</td>\n",
       "      <td>110.431928132</td>\n",
       "      <td>110.431928132</td>\n",
       "      <td>110.234710652</td>\n",
       "      <td>110.343180266</td>\n",
       "      <td>434</td>\n",
       "    </tr>\n",
       "    <tr>\n",
       "      <th>287</th>\n",
       "      <td>2020-10-30 19:00:00</td>\n",
       "      <td>110.441789006</td>\n",
       "      <td>110.441789006</td>\n",
       "      <td>110.20512803</td>\n",
       "      <td>110.20512803</td>\n",
       "      <td>795</td>\n",
       "    </tr>\n",
       "    <tr>\n",
       "      <th>288</th>\n",
       "      <td>2020-10-30 20:00:00</td>\n",
       "      <td>110.244571526</td>\n",
       "      <td>110.244571526</td>\n",
       "      <td>110.20512803</td>\n",
       "      <td>110.20512803</td>\n",
       "      <td>1114</td>\n",
       "    </tr>\n",
       "  </tbody>\n",
       "</table>\n",
       "<p>289 rows × 6 columns</p>\n",
       "</div>"
      ],
      "text/plain": [
       "                    time           open           high            low  \\\n",
       "0    2020-10-05 08:00:00  119.563097474  119.563097474  119.464488733   \n",
       "1    2020-10-05 09:00:00  119.612401844  119.641984466  119.415184363   \n",
       "2    2020-10-05 10:00:00  119.641984466  121.042228576   119.57039452   \n",
       "3    2020-10-05 11:00:00  119.694641533  120.509741379  119.375740867   \n",
       "4    2020-10-05 12:00:00  120.361828269   120.42592395  120.144889041   \n",
       "..                   ...            ...            ...            ...   \n",
       "284  2020-10-30 16:00:00  109.572257136  110.244571526  109.080988392   \n",
       "285  2020-10-30 17:00:00   110.10651929  110.392484636   109.27603648   \n",
       "286  2020-10-30 18:00:00  110.431928132  110.431928132  110.234710652   \n",
       "287  2020-10-30 19:00:00  110.441789006  110.441789006   110.20512803   \n",
       "288  2020-10-30 20:00:00  110.244571526  110.244571526   110.20512803   \n",
       "\n",
       "             close   volume  \n",
       "0    119.464488733      242  \n",
       "1    119.612401844     2507  \n",
       "2    119.661706214   460504  \n",
       "3    120.347036958   418983  \n",
       "4    120.213915159   409802  \n",
       "..             ...      ...  \n",
       "284   110.10651929  1479460  \n",
       "285  110.382623762   204356  \n",
       "286  110.343180266      434  \n",
       "287   110.20512803      795  \n",
       "288   110.20512803     1114  \n",
       "\n",
       "[289 rows x 6 columns]"
      ]
     },
     "execution_count": 68,
     "metadata": {},
     "output_type": "execute_result"
    }
   ],
   "source": [
    "txt = response.text.split(\"\\r\\n\")\n",
    "data = [t.split(\",\") for t in txt]\n",
    "data.reverse()\n",
    "\n",
    "df = pd.DataFrame(data[1:-1])\n",
    "df.columns = data[-1]\n",
    "df"
   ]
  },
  {
   "cell_type": "code",
   "execution_count": null,
   "metadata": {},
   "outputs": [],
   "source": []
  }
 ],
 "metadata": {
  "kernelspec": {
   "display_name": "Python 3",
   "language": "python",
   "name": "python3"
  },
  "language_info": {
   "codemirror_mode": {
    "name": "ipython",
    "version": 3
   },
   "file_extension": ".py",
   "mimetype": "text/x-python",
   "name": "python",
   "nbconvert_exporter": "python",
   "pygments_lexer": "ipython3",
   "version": "3.9.1"
  }
 },
 "nbformat": 4,
 "nbformat_minor": 4
}
